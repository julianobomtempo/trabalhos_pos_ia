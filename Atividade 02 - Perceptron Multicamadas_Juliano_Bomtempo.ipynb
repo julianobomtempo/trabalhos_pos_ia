{
 "cells": [
  {
   "cell_type": "markdown",
   "metadata": {},
   "source": [
    "# Atividade 02 - Perceptron Multicamadas"
   ]
  },
  {
   "cell_type": "markdown",
   "metadata": {},
   "source": [
    "## 1 - Treinar modelo MLP para classificação entre dígitos manuscritos da base de dados MNIST "
   ]
  },
  {
   "cell_type": "markdown",
   "metadata": {},
   "source": [
    "### 1.1 - Nas duas próximas células algumas bibliotecas importantes para a atividade estão sendo importadas e o dataset MNIST de dígitos já está sendo carregado a partir de uma função do framework KERAS."
   ]
  },
  {
   "cell_type": "code",
   "execution_count": 1,
   "metadata": {},
   "outputs": [
    {
     "name": "stderr",
     "output_type": "stream",
     "text": [
      "Using TensorFlow backend.\n"
     ]
    }
   ],
   "source": [
    "import numpy as np\n",
    "import matplotlib.pyplot as plt\n",
    "\n",
    "from keras.datasets import mnist\n",
    "from keras import backend as K\n",
    "from keras.layers import Input, Dense, Dropout, Activation\n",
    "from keras.models import Model\n",
    "from keras.optimizers import SGD\n",
    "from keras.utils import np_utils, to_categorical\n",
    "\n",
    "from sklearn.model_selection import train_test_split\n",
    "from sklearn.preprocessing import LabelEncoder\n",
    "\n",
    "from sklearn.metrics import classification_report\n",
    "from sklearn.preprocessing import LabelBinarizer\n",
    "from keras.models import Sequential\n",
    "from keras.layers.core import Dense"
   ]
  },
  {
   "cell_type": "code",
   "execution_count": 2,
   "metadata": {},
   "outputs": [],
   "source": [
    "# Aqui estão sendo carregados dados de treino de teste (não de validação)\n",
    "(x_train, y_train), (x_test, y_test) = mnist.load_data()"
   ]
  },
  {
   "cell_type": "markdown",
   "metadata": {},
   "source": [
    "### 1.2 - Escolha o tamanho do lote (ou batch) de dados para o treinamento, número de classes envolvidas no problema de classificação e o número de épocas que deseja treinar o modelo que irá construir:"
   ]
  },
  {
   "cell_type": "code",
   "execution_count": 3,
   "metadata": {},
   "outputs": [],
   "source": [
    "batch_size = 128\n",
    "num_classes = 10\n",
    "epochs = 50"
   ]
  },
  {
   "cell_type": "markdown",
   "metadata": {},
   "source": [
    "### 1.3 - O dataset MNIST possui imagens de dimensão 28x28 em escala de cinza, essas imagens são lidas na forma de um vetor de 28x28=784 posições. Normalize essas imagens,  dividindo todos seus valores por 255, a fim de que só apresente valores entre 0 e 1:"
   ]
  },
  {
   "cell_type": "code",
   "execution_count": 4,
   "metadata": {},
   "outputs": [],
   "source": [
    "# Dados transformados de inteiro para ponto flutuante\n",
    "x_train = x_train.astype('float32')\n",
    "x_test = x_test.astype('float32')\n",
    "\n",
    "# Faça aqui abaixo a normalização\n",
    "x_train = x_train/255\n",
    "x_test = x_test/255"
   ]
  },
  {
   "cell_type": "code",
   "execution_count": 5,
   "metadata": {},
   "outputs": [],
   "source": [
    "# Flateniza imagens para vetores\n",
    "x_train = x_train.reshape(-1, 28*28)\n",
    "x_test = x_test.reshape(-1, 28*28)"
   ]
  },
  {
   "cell_type": "markdown",
   "metadata": {},
   "source": [
    "### 1.4 - Rótulos são transformados em one-hot encoding para classificação"
   ]
  },
  {
   "cell_type": "code",
   "execution_count": 6,
   "metadata": {},
   "outputs": [
    {
     "name": "stdout",
     "output_type": "stream",
     "text": [
      "(10,)\n"
     ]
    }
   ],
   "source": [
    "# função to_categorical já importada lá no início do notebook\n",
    "y_train = to_categorical(y_train, num_classes)\n",
    "y_test = to_categorical(y_test, num_classes)\n",
    "print(y_test[0].shape)"
   ]
  },
  {
   "cell_type": "markdown",
   "metadata": {},
   "source": [
    "### 1.5 - Agora, divida o dataset de treino (X_train, y_train) em um novo dataset de treino (X_train, y_train) e um de validação (X_val, y_val), usando a função 'train_test_split' do sklearn já importada. Use 20% dos dados para validação:"
   ]
  },
  {
   "cell_type": "code",
   "execution_count": 7,
   "metadata": {},
   "outputs": [
    {
     "name": "stdout",
     "output_type": "stream",
     "text": [
      "(48000, 784) (48000, 10)\n",
      "(12000, 784) (12000, 10)\n"
     ]
    }
   ],
   "source": [
    "x_train, x_val, y_train, y_val = train_test_split(x_train, y_train, test_size=0.20, random_state=42)\n",
    "\n",
    "print(x_train.shape, y_train.shape)\n",
    "print(x_val.shape, y_val.shape)"
   ]
  },
  {
   "cell_type": "markdown",
   "metadata": {},
   "source": [
    "### 1.6 - Defina seu modelo na função abaixo:"
   ]
  },
  {
   "cell_type": "code",
   "execution_count": 8,
   "metadata": {},
   "outputs": [],
   "source": [
    "def baseline_model():\n",
    "    \n",
    "    my_input = Input(shape=(784,))\n",
    "    model = Sequential()\n",
    "    model.add(Dense(128, activation=\"sigmoid\"))\n",
    "    model.add(Dense(64, activation=\"sigmoid\"))\n",
    "    model.add(Dense(10, activation=\"softmax\"))\n",
    "    \n",
    "    model.compile(optimizer=SGD(0.01), loss=\"categorical_crossentropy\", metrics=[\"acc\"])\n",
    "    \n",
    "    return model"
   ]
  },
  {
   "cell_type": "markdown",
   "metadata": {},
   "source": [
    "### 1.7 - Agora finalmente treino o modelo com Dados de Treino e de Validação e guarde o histórico para plotar os gráficos de acurácia e erro (loss) ao longo das épocas:"
   ]
  },
  {
   "cell_type": "code",
   "execution_count": 23,
   "metadata": {},
   "outputs": [
    {
     "name": "stderr",
     "output_type": "stream",
     "text": [
      "/home/juliano/anaconda3/lib/python3.7/site-packages/ipykernel_launcher.py:2: UserWarning: The `nb_epoch` argument in `fit` has been renamed `epochs`.\n",
      "  \n"
     ]
    },
    {
     "name": "stdout",
     "output_type": "stream",
     "text": [
      "Train on 48000 samples, validate on 12000 samples\n",
      "Epoch 1/100\n",
      "48000/48000 [==============================] - 1s 27us/step - loss: 2.2979 - acc: 0.1567 - val_loss: 2.2679 - val_acc: 0.2599\n",
      "Epoch 2/100\n",
      "48000/48000 [==============================] - 1s 25us/step - loss: 2.2482 - acc: 0.2773 - val_loss: 2.2283 - val_acc: 0.3199\n",
      "Epoch 3/100\n",
      "48000/48000 [==============================] - 1s 25us/step - loss: 2.2039 - acc: 0.3723 - val_loss: 2.1787 - val_acc: 0.3488\n",
      "Epoch 4/100\n",
      "48000/48000 [==============================] - 1s 28us/step - loss: 2.1471 - acc: 0.4254 - val_loss: 2.1146 - val_acc: 0.4193\n",
      "Epoch 5/100\n",
      "48000/48000 [==============================] - 1s 25us/step - loss: 2.0715 - acc: 0.4652 - val_loss: 2.0277 - val_acc: 0.5393\n",
      "Epoch 6/100\n",
      "48000/48000 [==============================] - 1s 26us/step - loss: 1.9720 - acc: 0.5172 - val_loss: 1.9163 - val_acc: 0.5485\n",
      "Epoch 7/100\n",
      "48000/48000 [==============================] - 1s 27us/step - loss: 1.8489 - acc: 0.5454 - val_loss: 1.7835 - val_acc: 0.5880\n",
      "Epoch 8/100\n",
      "48000/48000 [==============================] - 1s 28us/step - loss: 1.7104 - acc: 0.5901 - val_loss: 1.6418 - val_acc: 0.5905\n",
      "Epoch 9/100\n",
      "48000/48000 [==============================] - 1s 24us/step - loss: 1.5696 - acc: 0.6263 - val_loss: 1.5036 - val_acc: 0.6478\n",
      "Epoch 10/100\n",
      "48000/48000 [==============================] - 1s 22us/step - loss: 1.4371 - acc: 0.6686 - val_loss: 1.3768 - val_acc: 0.6998\n",
      "Epoch 11/100\n",
      "48000/48000 [==============================] - 1s 22us/step - loss: 1.3181 - acc: 0.7078 - val_loss: 1.2648 - val_acc: 0.7196\n",
      "Epoch 12/100\n",
      "48000/48000 [==============================] - 1s 21us/step - loss: 1.2137 - acc: 0.7359 - val_loss: 1.1667 - val_acc: 0.7490\n",
      "Epoch 13/100\n",
      "48000/48000 [==============================] - 1s 22us/step - loss: 1.1226 - acc: 0.7599 - val_loss: 1.0811 - val_acc: 0.7722\n",
      "Epoch 14/100\n",
      "48000/48000 [==============================] - 1s 22us/step - loss: 1.0428 - acc: 0.7784 - val_loss: 1.0058 - val_acc: 0.7920\n",
      "Epoch 15/100\n",
      "48000/48000 [==============================] - 1s 26us/step - loss: 0.9724 - acc: 0.7936 - val_loss: 0.9390 - val_acc: 0.7999\n",
      "Epoch 16/100\n",
      "48000/48000 [==============================] - 1s 29us/step - loss: 0.9096 - acc: 0.8046 - val_loss: 0.8789 - val_acc: 0.8120\n",
      "Epoch 17/100\n",
      "48000/48000 [==============================] - 1s 30us/step - loss: 0.8532 - acc: 0.8150 - val_loss: 0.8255 - val_acc: 0.8196\n",
      "Epoch 18/100\n",
      "48000/48000 [==============================] - 1s 29us/step - loss: 0.8028 - acc: 0.8229 - val_loss: 0.7775 - val_acc: 0.8301\n",
      "Epoch 19/100\n",
      "48000/48000 [==============================] - 1s 29us/step - loss: 0.7578 - acc: 0.8295 - val_loss: 0.7349 - val_acc: 0.8360\n",
      "Epoch 20/100\n",
      "48000/48000 [==============================] - 1s 29us/step - loss: 0.7178 - acc: 0.8362 - val_loss: 0.6969 - val_acc: 0.8397\n",
      "Epoch 21/100\n",
      "48000/48000 [==============================] - 1s 29us/step - loss: 0.6825 - acc: 0.8409 - val_loss: 0.6638 - val_acc: 0.8473\n",
      "Epoch 22/100\n",
      "48000/48000 [==============================] - 2s 32us/step - loss: 0.6513 - acc: 0.8452 - val_loss: 0.6347 - val_acc: 0.8502\n",
      "Epoch 23/100\n",
      "48000/48000 [==============================] - 1s 29us/step - loss: 0.6237 - acc: 0.8494 - val_loss: 0.6086 - val_acc: 0.8545\n",
      "Epoch 24/100\n",
      "48000/48000 [==============================] - 1s 29us/step - loss: 0.5993 - acc: 0.8538 - val_loss: 0.5861 - val_acc: 0.8578\n",
      "Epoch 25/100\n",
      "48000/48000 [==============================] - 1s 29us/step - loss: 0.5777 - acc: 0.8586 - val_loss: 0.5655 - val_acc: 0.8608\n",
      "Epoch 26/100\n",
      "48000/48000 [==============================] - 1s 29us/step - loss: 0.5585 - acc: 0.8618 - val_loss: 0.5472 - val_acc: 0.8631\n",
      "Epoch 27/100\n",
      "48000/48000 [==============================] - 1s 29us/step - loss: 0.5413 - acc: 0.8644 - val_loss: 0.5310 - val_acc: 0.8673\n",
      "Epoch 28/100\n",
      "48000/48000 [==============================] - 1s 29us/step - loss: 0.5258 - acc: 0.8675 - val_loss: 0.5163 - val_acc: 0.8687\n",
      "Epoch 29/100\n",
      "48000/48000 [==============================] - 1s 29us/step - loss: 0.5118 - acc: 0.8698 - val_loss: 0.5031 - val_acc: 0.8712\n",
      "Epoch 30/100\n",
      "48000/48000 [==============================] - 1s 31us/step - loss: 0.4990 - acc: 0.8720 - val_loss: 0.4910 - val_acc: 0.8745\n",
      "Epoch 31/100\n",
      "48000/48000 [==============================] - 1s 31us/step - loss: 0.4874 - acc: 0.8747 - val_loss: 0.4799 - val_acc: 0.8758\n",
      "Epoch 32/100\n",
      "48000/48000 [==============================] - 1s 31us/step - loss: 0.4768 - acc: 0.8767 - val_loss: 0.4701 - val_acc: 0.8786\n",
      "Epoch 33/100\n",
      "48000/48000 [==============================] - 1s 31us/step - loss: 0.4671 - acc: 0.8786 - val_loss: 0.4606 - val_acc: 0.8802\n",
      "Epoch 34/100\n",
      "48000/48000 [==============================] - 1s 31us/step - loss: 0.4580 - acc: 0.8802 - val_loss: 0.4521 - val_acc: 0.8823\n",
      "Epoch 35/100\n",
      "48000/48000 [==============================] - 2s 32us/step - loss: 0.4498 - acc: 0.8815 - val_loss: 0.4442 - val_acc: 0.8827\n",
      "Epoch 36/100\n",
      "48000/48000 [==============================] - 1s 30us/step - loss: 0.4420 - acc: 0.8832 - val_loss: 0.4367 - val_acc: 0.8853\n",
      "Epoch 37/100\n",
      "48000/48000 [==============================] - 2s 32us/step - loss: 0.4349 - acc: 0.8849 - val_loss: 0.4298 - val_acc: 0.8859\n",
      "Epoch 38/100\n",
      "48000/48000 [==============================] - 1s 31us/step - loss: 0.4281 - acc: 0.8863 - val_loss: 0.4235 - val_acc: 0.8878\n",
      "Epoch 39/100\n",
      "48000/48000 [==============================] - 2s 35us/step - loss: 0.4219 - acc: 0.8878 - val_loss: 0.4174 - val_acc: 0.8887\n",
      "Epoch 40/100\n",
      "48000/48000 [==============================] - 2s 33us/step - loss: 0.4160 - acc: 0.8886 - val_loss: 0.4119 - val_acc: 0.8890\n",
      "Epoch 41/100\n",
      "48000/48000 [==============================] - 2s 35us/step - loss: 0.4105 - acc: 0.8898 - val_loss: 0.4066 - val_acc: 0.8911\n",
      "Epoch 42/100\n",
      "48000/48000 [==============================] - 2s 34us/step - loss: 0.4053 - acc: 0.8908 - val_loss: 0.4016 - val_acc: 0.8920\n",
      "Epoch 43/100\n",
      "48000/48000 [==============================] - 2s 33us/step - loss: 0.4005 - acc: 0.8916 - val_loss: 0.3968 - val_acc: 0.8938\n",
      "Epoch 44/100\n",
      "48000/48000 [==============================] - 2s 40us/step - loss: 0.3958 - acc: 0.8928 - val_loss: 0.3923 - val_acc: 0.8944\n",
      "Epoch 45/100\n",
      "48000/48000 [==============================] - 2s 36us/step - loss: 0.3914 - acc: 0.8935 - val_loss: 0.3882 - val_acc: 0.8956\n",
      "Epoch 46/100\n",
      "48000/48000 [==============================] - 2s 33us/step - loss: 0.3872 - acc: 0.8945 - val_loss: 0.3841 - val_acc: 0.8958\n",
      "Epoch 47/100\n",
      "48000/48000 [==============================] - 2s 33us/step - loss: 0.3833 - acc: 0.8951 - val_loss: 0.3804 - val_acc: 0.8968\n",
      "Epoch 48/100\n",
      "48000/48000 [==============================] - 2s 35us/step - loss: 0.3795 - acc: 0.8961 - val_loss: 0.3768 - val_acc: 0.8974\n",
      "Epoch 49/100\n",
      "48000/48000 [==============================] - 2s 34us/step - loss: 0.3758 - acc: 0.8968 - val_loss: 0.3732 - val_acc: 0.8980\n",
      "Epoch 50/100\n",
      "48000/48000 [==============================] - 2s 34us/step - loss: 0.3724 - acc: 0.8976 - val_loss: 0.3698 - val_acc: 0.8991\n",
      "Epoch 51/100\n",
      "48000/48000 [==============================] - 2s 34us/step - loss: 0.3691 - acc: 0.8979 - val_loss: 0.3668 - val_acc: 0.8998\n",
      "Epoch 52/100\n",
      "48000/48000 [==============================] - 2s 35us/step - loss: 0.3659 - acc: 0.8986 - val_loss: 0.3637 - val_acc: 0.9009\n",
      "Epoch 53/100\n",
      "48000/48000 [==============================] - 2s 34us/step - loss: 0.3629 - acc: 0.8989 - val_loss: 0.3607 - val_acc: 0.9020\n",
      "Epoch 54/100\n",
      "48000/48000 [==============================] - 2s 35us/step - loss: 0.3599 - acc: 0.8998 - val_loss: 0.3580 - val_acc: 0.9021\n",
      "Epoch 55/100\n",
      "48000/48000 [==============================] - 2s 33us/step - loss: 0.3572 - acc: 0.9004 - val_loss: 0.3551 - val_acc: 0.9025\n",
      "Epoch 56/100\n",
      "48000/48000 [==============================] - 2s 34us/step - loss: 0.3545 - acc: 0.9008 - val_loss: 0.3528 - val_acc: 0.9033\n",
      "Epoch 57/100\n",
      "48000/48000 [==============================] - 2s 38us/step - loss: 0.3519 - acc: 0.9015 - val_loss: 0.3501 - val_acc: 0.9039\n",
      "Epoch 58/100\n",
      "48000/48000 [==============================] - 2s 32us/step - loss: 0.3493 - acc: 0.9022 - val_loss: 0.3477 - val_acc: 0.9043\n",
      "Epoch 59/100\n"
     ]
    },
    {
     "name": "stdout",
     "output_type": "stream",
     "text": [
      "48000/48000 [==============================] - 2s 33us/step - loss: 0.3468 - acc: 0.9025 - val_loss: 0.3454 - val_acc: 0.9058\n",
      "Epoch 60/100\n",
      "48000/48000 [==============================] - 2s 33us/step - loss: 0.3445 - acc: 0.9033 - val_loss: 0.3433 - val_acc: 0.9056\n",
      "Epoch 61/100\n",
      "48000/48000 [==============================] - 1s 31us/step - loss: 0.3422 - acc: 0.9032 - val_loss: 0.3409 - val_acc: 0.9063\n",
      "Epoch 62/100\n",
      "48000/48000 [==============================] - 1s 31us/step - loss: 0.3400 - acc: 0.9039 - val_loss: 0.3390 - val_acc: 0.9061\n",
      "Epoch 63/100\n",
      "48000/48000 [==============================] - 2s 31us/step - loss: 0.3379 - acc: 0.9045 - val_loss: 0.3368 - val_acc: 0.9057\n",
      "Epoch 64/100\n",
      "48000/48000 [==============================] - 2s 32us/step - loss: 0.3358 - acc: 0.9051 - val_loss: 0.3349 - val_acc: 0.9068\n",
      "Epoch 65/100\n",
      "48000/48000 [==============================] - 2s 34us/step - loss: 0.3337 - acc: 0.9053 - val_loss: 0.3328 - val_acc: 0.9075\n",
      "Epoch 66/100\n",
      "48000/48000 [==============================] - 2s 32us/step - loss: 0.3318 - acc: 0.9059 - val_loss: 0.3310 - val_acc: 0.9072\n",
      "Epoch 67/100\n",
      "48000/48000 [==============================] - 2s 32us/step - loss: 0.3298 - acc: 0.9060 - val_loss: 0.3292 - val_acc: 0.9078\n",
      "Epoch 68/100\n",
      "48000/48000 [==============================] - 1s 31us/step - loss: 0.3280 - acc: 0.9065 - val_loss: 0.3276 - val_acc: 0.9086\n",
      "Epoch 69/100\n",
      "48000/48000 [==============================] - 2s 31us/step - loss: 0.3262 - acc: 0.9068 - val_loss: 0.3258 - val_acc: 0.9092\n",
      "Epoch 70/100\n",
      "48000/48000 [==============================] - 2s 31us/step - loss: 0.3244 - acc: 0.9076 - val_loss: 0.3240 - val_acc: 0.9102\n",
      "Epoch 71/100\n",
      "48000/48000 [==============================] - 2s 32us/step - loss: 0.3226 - acc: 0.9078 - val_loss: 0.3225 - val_acc: 0.9099\n",
      "Epoch 72/100\n",
      "48000/48000 [==============================] - 1s 31us/step - loss: 0.3209 - acc: 0.9081 - val_loss: 0.3208 - val_acc: 0.9104\n",
      "Epoch 73/100\n",
      "48000/48000 [==============================] - 2s 33us/step - loss: 0.3193 - acc: 0.9085 - val_loss: 0.3192 - val_acc: 0.9110\n",
      "Epoch 74/100\n",
      "48000/48000 [==============================] - 2s 31us/step - loss: 0.3177 - acc: 0.9087 - val_loss: 0.3177 - val_acc: 0.9118\n",
      "Epoch 75/100\n",
      "48000/48000 [==============================] - 2s 33us/step - loss: 0.3161 - acc: 0.9092 - val_loss: 0.3162 - val_acc: 0.9115\n",
      "Epoch 76/100\n",
      "48000/48000 [==============================] - 1s 31us/step - loss: 0.3145 - acc: 0.9094 - val_loss: 0.3147 - val_acc: 0.9112\n",
      "Epoch 77/100\n",
      "48000/48000 [==============================] - 2s 32us/step - loss: 0.3130 - acc: 0.9097 - val_loss: 0.3134 - val_acc: 0.9126\n",
      "Epoch 78/100\n",
      "48000/48000 [==============================] - 2s 33us/step - loss: 0.3115 - acc: 0.9103 - val_loss: 0.3119 - val_acc: 0.9134\n",
      "Epoch 79/100\n",
      "48000/48000 [==============================] - 2s 36us/step - loss: 0.3100 - acc: 0.9106 - val_loss: 0.3105 - val_acc: 0.9132\n",
      "Epoch 80/100\n",
      "48000/48000 [==============================] - 2s 35us/step - loss: 0.3086 - acc: 0.9111 - val_loss: 0.3091 - val_acc: 0.9135\n",
      "Epoch 81/100\n",
      "48000/48000 [==============================] - 2s 33us/step - loss: 0.3072 - acc: 0.9114 - val_loss: 0.3079 - val_acc: 0.9143\n",
      "Epoch 82/100\n",
      "48000/48000 [==============================] - 2s 37us/step - loss: 0.3058 - acc: 0.9118 - val_loss: 0.3066 - val_acc: 0.9146\n",
      "Epoch 83/100\n",
      "48000/48000 [==============================] - 2s 36us/step - loss: 0.3044 - acc: 0.9122 - val_loss: 0.3053 - val_acc: 0.9149\n",
      "Epoch 84/100\n",
      "48000/48000 [==============================] - 2s 32us/step - loss: 0.3031 - acc: 0.9127 - val_loss: 0.3040 - val_acc: 0.9157\n",
      "Epoch 85/100\n",
      "48000/48000 [==============================] - 2s 34us/step - loss: 0.3018 - acc: 0.9131 - val_loss: 0.3029 - val_acc: 0.9156\n",
      "Epoch 86/100\n",
      "48000/48000 [==============================] - 2s 35us/step - loss: 0.3005 - acc: 0.9133 - val_loss: 0.3017 - val_acc: 0.9166\n",
      "Epoch 87/100\n",
      "48000/48000 [==============================] - 2s 36us/step - loss: 0.2992 - acc: 0.9138 - val_loss: 0.3005 - val_acc: 0.9163\n",
      "Epoch 88/100\n",
      "48000/48000 [==============================] - 2s 36us/step - loss: 0.2979 - acc: 0.9141 - val_loss: 0.2992 - val_acc: 0.9168\n",
      "Epoch 89/100\n",
      "48000/48000 [==============================] - 2s 33us/step - loss: 0.2967 - acc: 0.9146 - val_loss: 0.2981 - val_acc: 0.9168\n",
      "Epoch 90/100\n",
      "48000/48000 [==============================] - 2s 35us/step - loss: 0.2955 - acc: 0.9148 - val_loss: 0.2970 - val_acc: 0.9174\n",
      "Epoch 91/100\n",
      "48000/48000 [==============================] - 2s 34us/step - loss: 0.2943 - acc: 0.9146 - val_loss: 0.2958 - val_acc: 0.9177\n",
      "Epoch 92/100\n",
      "48000/48000 [==============================] - 2s 33us/step - loss: 0.2931 - acc: 0.9153 - val_loss: 0.2948 - val_acc: 0.9175\n",
      "Epoch 93/100\n",
      "48000/48000 [==============================] - 2s 32us/step - loss: 0.2920 - acc: 0.9156 - val_loss: 0.2936 - val_acc: 0.9180\n",
      "Epoch 94/100\n",
      "48000/48000 [==============================] - 2s 35us/step - loss: 0.2908 - acc: 0.9156 - val_loss: 0.2925 - val_acc: 0.9184\n",
      "Epoch 95/100\n",
      "48000/48000 [==============================] - 2s 34us/step - loss: 0.2896 - acc: 0.9160 - val_loss: 0.2915 - val_acc: 0.9185\n",
      "Epoch 96/100\n",
      "48000/48000 [==============================] - 2s 36us/step - loss: 0.2886 - acc: 0.9165 - val_loss: 0.2904 - val_acc: 0.9193\n",
      "Epoch 97/100\n",
      "48000/48000 [==============================] - 2s 34us/step - loss: 0.2874 - acc: 0.9167 - val_loss: 0.2895 - val_acc: 0.9187\n",
      "Epoch 98/100\n",
      "48000/48000 [==============================] - 2s 33us/step - loss: 0.2864 - acc: 0.9167 - val_loss: 0.2884 - val_acc: 0.9187\n",
      "Epoch 99/100\n",
      "48000/48000 [==============================] - 2s 35us/step - loss: 0.2853 - acc: 0.9169 - val_loss: 0.2876 - val_acc: 0.9194\n",
      "Epoch 100/100\n",
      "48000/48000 [==============================] - 2s 32us/step - loss: 0.2842 - acc: 0.9176 - val_loss: 0.2865 - val_acc: 0.9197\n"
     ]
    }
   ],
   "source": [
    "model = baseline_model()\n",
    "history = model.fit(x_train, y_train, batch_size= 128, nb_epoch= 100, validation_data=(x_val, y_val))"
   ]
  },
  {
   "cell_type": "code",
   "execution_count": 24,
   "metadata": {},
   "outputs": [
    {
     "name": "stdout",
     "output_type": "stream",
     "text": [
      "Testing Accuracy: 0.92\n"
     ]
    }
   ],
   "source": [
    "loss, accuracy = model.evaluate(x_test, y_test, verbose=False)\n",
    "print(\"Testing Accuracy: {:.2f}\".format(accuracy))"
   ]
  },
  {
   "cell_type": "markdown",
   "metadata": {},
   "source": [
    "### 1.8 - Aqui o código já gera os gráficos de acurácia e erro ao longo do treinamento. Após gerar os gráfico explique se seu modelo está tendo a tendência esperada ao logno das épocas ou se está gerando overfitting, caso esteja."
   ]
  },
  {
   "cell_type": "code",
   "execution_count": 25,
   "metadata": {},
   "outputs": [
    {
     "data": {
      "text/plain": [
       "<matplotlib.legend.Legend at 0x7f55ff7a9790>"
      ]
     },
     "execution_count": 25,
     "metadata": {},
     "output_type": "execute_result"
    },
    {
     "data": {
      "image/png": "[encoded data removed]",
      "text/plain": [
       "<Figure size 1440x720 with 1 Axes>"
      ]
     },
     "metadata": {
      "needs_background": "light"
     },
     "output_type": "display_data"
    },
    {
     "data": {
      "image/png": "[encoded data removed]",
      "text/plain": [
       "<Figure size 1440x720 with 1 Axes>"
      ]
     },
     "metadata": {
      "needs_background": "light"
     },
     "output_type": "display_data"
    }
   ],
   "source": [
    "plt.figure(figsize=(20,10))\n",
    "plt.plot(history.history['acc'])\n",
    "plt.plot(history.history['val_acc'],'g')\n",
    "plt.title('Training model')\n",
    "plt.ylabel('accuracy')\n",
    "plt.xlabel('epoch')\n",
    "plt.legend(['Train', 'Val'], loc='upper right')\n",
    "\n",
    "plt.figure(figsize=(20,10))\n",
    "plt.plot(history.history['loss'])\n",
    "plt.plot(history.history['val_loss'],'g')\n",
    "plt.title('Training model')\n",
    "plt.ylabel('loss')\n",
    "plt.xlabel('epoch')\n",
    "plt.legend(['Train', 'Val'], loc='upper right')"
   ]
  },
  {
   "cell_type": "markdown",
   "metadata": {},
   "source": [
    "### 1.9 - Avalie o modelo nos dados de teste e verifique a acurácia e o erro:"
   ]
  },
  {
   "cell_type": "code",
   "execution_count": 27,
   "metadata": {
    "scrolled": true
   },
   "outputs": [
    {
     "name": "stdout",
     "output_type": "stream",
     "text": [
      "10000/10000 [==============================] - 0s 16us/step\n"
     ]
    }
   ],
   "source": [
    "evs = model.evaluate(x_test, y_test, batch_size=batch_size)"
   ]
  },
  {
   "cell_type": "code",
   "execution_count": 26,
   "metadata": {},
   "outputs": [
    {
     "name": "stdout",
     "output_type": "stream",
     "text": [
      "              precision    recall  f1-score   support\n",
      "\n",
      "           0       0.93      0.98      0.96       980\n",
      "           1       0.97      0.97      0.97      1135\n",
      "           2       0.92      0.90      0.91      1032\n",
      "           3       0.90      0.91      0.90      1010\n",
      "           4       0.92      0.93      0.92       982\n",
      "           5       0.90      0.86      0.88       892\n",
      "           6       0.93      0.94      0.94       958\n",
      "           7       0.93      0.92      0.93      1028\n",
      "           8       0.89      0.88      0.89       974\n",
      "           9       0.90      0.90      0.90      1009\n",
      "\n",
      "    accuracy                           0.92     10000\n",
      "   macro avg       0.92      0.92      0.92     10000\n",
      "weighted avg       0.92      0.92      0.92     10000\n",
      "\n"
     ]
    }
   ],
   "source": [
    "predictions = model.predict(x_test, batch_size=128)\n",
    "print(classification_report(y_test.argmax(axis=1), predictions.argmax(axis=1)))"
   ]
  },
  {
   "cell_type": "markdown",
   "metadata": {},
   "source": [
    "### Resposta : Após a observação e avaliação dos recultados constatei que o modelo apresentou 92% de acurácia e 96% no calculo de predição, obtendo a tendência esperada ao logno das épocas e não está gerando overfitting."
   ]
  }
 ],
 "metadata": {
  "kernelspec": {
   "display_name": "Python 3",
   "language": "python",
   "name": "python3"
  },
  "language_info": {
   "codemirror_mode": {
    "name": "ipython",
    "version": 3
   },
   "file_extension": ".py",
   "mimetype": "text/x-python",
   "name": "python",
   "nbconvert_exporter": "python",
   "pygments_lexer": "ipython3",
   "version": "3.7.4"
  }
 },
 "nbformat": 4,
 "nbformat_minor": 2
}
